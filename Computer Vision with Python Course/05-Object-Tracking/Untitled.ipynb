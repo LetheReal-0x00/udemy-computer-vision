{
 "cells": [
  {
   "cell_type": "code",
   "execution_count": 1,
   "id": "570ee643",
   "metadata": {},
   "outputs": [],
   "source": [
    "import numpy as np\n",
    "import cv2"
   ]
  },
  {
   "cell_type": "code",
   "execution_count": 2,
   "id": "e3998382",
   "metadata": {},
   "outputs": [],
   "source": [
    "corner_track_params = dict(maxCorners = 10, qualityLevel=0.3, minDistance=7, blockSize=7)"
   ]
  },
  {
   "cell_type": "code",
   "execution_count": 3,
   "id": "c5b1c587",
   "metadata": {},
   "outputs": [],
   "source": [
    "lk_params = dict(winSize=(200,200),maxLevel=2, criteria = (cv2.TERM_CRITERIA_EPS | cv2.TERM_CRITERIA_COUNT, 10, 0.3))"
   ]
  },
  {
   "cell_type": "code",
   "execution_count": 4,
   "id": "c507c95f",
   "metadata": {},
   "outputs": [
    {
     "ename": "error",
     "evalue": "OpenCV(4.5.5) :-1: error: (-5:Bad argument) in function 'line'\n> Overload resolution failed:\n>  - Can't parse 'pt1'. Sequence item with index 0 has a wrong type\n>  - Can't parse 'pt1'. Sequence item with index 0 has a wrong type\n",
     "output_type": "error",
     "traceback": [
      "\u001b[1;31m---------------------------------------------------------------------------\u001b[0m",
      "\u001b[1;31merror\u001b[0m                                     Traceback (most recent call last)",
      "Input \u001b[1;32mIn [4]\u001b[0m, in \u001b[0;36m<cell line: 13>\u001b[1;34m()\u001b[0m\n\u001b[0;32m     21\u001b[0m     x_new, y_new \u001b[38;5;241m=\u001b[39m new\u001b[38;5;241m.\u001b[39mravel()\n\u001b[0;32m     22\u001b[0m     x_prev, y_prev \u001b[38;5;241m=\u001b[39m new\u001b[38;5;241m.\u001b[39mravel()\n\u001b[1;32m---> 24\u001b[0m     mask \u001b[38;5;241m=\u001b[39m \u001b[43mcv2\u001b[49m\u001b[38;5;241;43m.\u001b[39;49m\u001b[43mline\u001b[49m\u001b[43m(\u001b[49m\u001b[43mmask\u001b[49m\u001b[43m,\u001b[49m\u001b[43m(\u001b[49m\u001b[43mx_new\u001b[49m\u001b[43m,\u001b[49m\u001b[43my_new\u001b[49m\u001b[43m)\u001b[49m\u001b[43m,\u001b[49m\u001b[43m(\u001b[49m\u001b[43mx_prev\u001b[49m\u001b[43m,\u001b[49m\u001b[43my_prev\u001b[49m\u001b[43m)\u001b[49m\u001b[43m,\u001b[49m\u001b[43m(\u001b[49m\u001b[38;5;241;43m0\u001b[39;49m\u001b[43m,\u001b[49m\u001b[38;5;241;43m255\u001b[39;49m\u001b[43m,\u001b[49m\u001b[38;5;241;43m0\u001b[39;49m\u001b[43m)\u001b[49m\u001b[43m,\u001b[49m\u001b[38;5;241;43m3\u001b[39;49m\u001b[43m)\u001b[49m\n\u001b[0;32m     26\u001b[0m     frame \u001b[38;5;241m=\u001b[39m cv2\u001b[38;5;241m.\u001b[39mcircle(frame, (x_new,y_new), \u001b[38;5;241m8\u001b[39m , (\u001b[38;5;241m0\u001b[39m,\u001b[38;5;241m0\u001b[39m,\u001b[38;5;241m255\u001b[39m), \u001b[38;5;241m-\u001b[39m\u001b[38;5;241m1\u001b[39m)\n\u001b[0;32m     27\u001b[0m img \u001b[38;5;241m=\u001b[39m cv2\u001b[38;5;241m.\u001b[39madd(frame,mask)\n",
      "\u001b[1;31merror\u001b[0m: OpenCV(4.5.5) :-1: error: (-5:Bad argument) in function 'line'\n> Overload resolution failed:\n>  - Can't parse 'pt1'. Sequence item with index 0 has a wrong type\n>  - Can't parse 'pt1'. Sequence item with index 0 has a wrong type\n"
     ]
    }
   ],
   "source": [
    "cap = cv2.VideoCapture(0)\n",
    "\n",
    "ret, prev_frame = cap.read()\n",
    "\n",
    "prev_gray = cv2.cvtColor(prev_frame, cv2.COLOR_BGR2GRAY)\n",
    "\n",
    "prevPts = cv2.goodFeaturesToTrack(prev_gray, mask=None, **corner_track_params)\n",
    "\n",
    "#use this mask to draw lines on the videos.\n",
    "mask = np.zeros_like(prev_frame)\n",
    "\n",
    "while True:\n",
    "    ret, frame = cap.read()\n",
    "    frame_gray = cv2.cvtColor(frame, cv2.COLOR_BGR2GRAY)\n",
    "    \n",
    "    nextPts, status, err = cv2.calcOpticalFlowPyrLK(prev_gray, frame_gray, prevPts,None, **lk_params)\n",
    "    \n",
    "    good_new = nextPts[status==1]\n",
    "    good_prev = prevPts[status==1]\n",
    "    for i, (new,prev) in enumerate(zip(good_new,good_prev)):\n",
    "        x_new, y_new = new.ravel()\n",
    "        x_prev, y_prev = new.ravel()\n",
    "        \n",
    "        mask = cv2.line(mask,(x_new,y_new),(x_prev,y_prev),(0,255,0),3)\n",
    "        \n",
    "        frame = cv2.circle(frame, (x_new,y_new), 8 , (0,0,255), -1)\n",
    "    img = cv2.add(frame,mask)\n",
    "    cv2.imshow('tracking',img)\n",
    "    \n",
    "    k=cv2.waitKey(30) & 0xFF\n",
    "    if k == 27:\n",
    "        break\n",
    "        \n",
    "    prev_gray = frame_gray.copy()\n",
    "    prevPts = good_new.reshape(-1,1,2)\n",
    "    \n",
    "cv2.destroyAllWindows()\n",
    "cap.release()"
   ]
  },
  {
   "cell_type": "code",
   "execution_count": null,
   "id": "1eff1b03",
   "metadata": {},
   "outputs": [],
   "source": [
    "\n"
   ]
  }
 ],
 "metadata": {
  "kernelspec": {
   "display_name": "Python 3 (ipykernel)",
   "language": "python",
   "name": "python3"
  },
  "language_info": {
   "codemirror_mode": {
    "name": "ipython",
    "version": 3
   },
   "file_extension": ".py",
   "mimetype": "text/x-python",
   "name": "python",
   "nbconvert_exporter": "python",
   "pygments_lexer": "ipython3",
   "version": "3.9.11"
  }
 },
 "nbformat": 4,
 "nbformat_minor": 5
}
